{
  "nbformat": 4,
  "nbformat_minor": 0,
  "metadata": {
    "kernelspec": {
      "display_name": "Python 3",
      "language": "python",
      "name": "python3"
    },
    "language_info": {
      "codemirror_mode": {
        "name": "ipython",
        "version": 3
      },
      "file_extension": ".py",
      "mimetype": "text/x-python",
      "name": "python",
      "nbconvert_exporter": "python",
      "pygments_lexer": "ipython3",
      "version": "3.7.1"
    },
    "colab": {
      "name": "Multi-class Text Classification Task.ipynb",
      "provenance": [],
      "collapsed_sections": []
    }
  },
  "cells": [
    {
      "cell_type": "markdown",
      "metadata": {
        "id": "SJWbAntR-0Or"
      },
      "source": [
        "**Multi-Class Text Classification Job title by industry**\n"
      ]
    },
    {
      "cell_type": "code",
      "metadata": {
        "id": "wRkduupA-0Ox"
      },
      "source": [
        "#Import libraries \n",
        "\n",
        "# basic lib\n",
        "import numpy as np\n",
        "import pandas as pd\n",
        "import matplotlib.pyplot as plt\n",
        "import seaborn as sns\n",
        "\n",
        "#sklearn \n",
        "from sklearn.model_selection import train_test_split\n",
        "from sklearn.utils.class_weight import compute_sample_weight\n",
        "from sklearn.feature_extraction.text import CountVectorizer, TfidfVectorizer\n",
        "from sklearn.feature_extraction.text import TfidfTransformer\n",
        "from sklearn.metrics import accuracy_score, confusion_matrix\n",
        "from sklearn.pipeline import Pipeline\n",
        "from sklearn.naive_bayes import MultinomialNB\n",
        "from sklearn.linear_model import SGDClassifier\n",
        "\n",
        "# nlp preprocessing lib\n",
        "import gensim\n",
        "from gensim.utils import simple_preprocess\n",
        "from gensim.parsing.preprocessing import STOPWORDS\n",
        "import string \n",
        "punctation = string.punctuation "
      ],
      "execution_count": 403,
      "outputs": []
    },
    {
      "cell_type": "markdown",
      "metadata": {
        "id": "z9LM7ZME-0O0"
      },
      "source": [
        "## Load Data"
      ]
    },
    {
      "cell_type": "code",
      "metadata": {
        "colab": {
          "base_uri": "https://localhost:8080/",
          "height": 204
        },
        "id": "tScA4GLh-0O1",
        "outputId": "cd036102-bf36-41ce-ceed-1233d4180f02"
      },
      "source": [
        "#loading data into a pandas.DataFrame as dataset.\n",
        "dataset = pd.read_csv(\"./sample_data/Job titles and industries.csv\")\n",
        "dataset.sample(5)"
      ],
      "execution_count": 404,
      "outputs": [
        {
          "output_type": "execute_result",
          "data": {
            "text/html": [
              "<div>\n",
              "<style scoped>\n",
              "    .dataframe tbody tr th:only-of-type {\n",
              "        vertical-align: middle;\n",
              "    }\n",
              "\n",
              "    .dataframe tbody tr th {\n",
              "        vertical-align: top;\n",
              "    }\n",
              "\n",
              "    .dataframe thead th {\n",
              "        text-align: right;\n",
              "    }\n",
              "</style>\n",
              "<table border=\"1\" class=\"dataframe\">\n",
              "  <thead>\n",
              "    <tr style=\"text-align: right;\">\n",
              "      <th></th>\n",
              "      <th>job title</th>\n",
              "      <th>industry</th>\n",
              "    </tr>\n",
              "  </thead>\n",
              "  <tbody>\n",
              "    <tr>\n",
              "      <th>1128</th>\n",
              "      <td>senior react developer</td>\n",
              "      <td>IT</td>\n",
              "    </tr>\n",
              "    <tr>\n",
              "      <th>3146</th>\n",
              "      <td>automation test engineer - dv cleared</td>\n",
              "      <td>IT</td>\n",
              "    </tr>\n",
              "    <tr>\n",
              "      <th>635</th>\n",
              "      <td>full stack developer - educational technology ...</td>\n",
              "      <td>IT</td>\n",
              "    </tr>\n",
              "    <tr>\n",
              "      <th>6208</th>\n",
              "      <td>life science communications executive</td>\n",
              "      <td>Marketing</td>\n",
              "    </tr>\n",
              "    <tr>\n",
              "      <th>5273</th>\n",
              "      <td>marketing database coordinator</td>\n",
              "      <td>Marketing</td>\n",
              "    </tr>\n",
              "  </tbody>\n",
              "</table>\n",
              "</div>"
            ],
            "text/plain": [
              "                                              job title   industry\n",
              "1128                             senior react developer         IT\n",
              "3146              automation test engineer - dv cleared         IT\n",
              "635   full stack developer - educational technology ...         IT\n",
              "6208              life science communications executive  Marketing\n",
              "5273                     marketing database coordinator  Marketing"
            ]
          },
          "metadata": {},
          "execution_count": 404
        }
      ]
    },
    {
      "cell_type": "markdown",
      "metadata": {
        "id": "0aK4pmlQ-0O2"
      },
      "source": [
        "### EDA on Data"
      ]
    },
    {
      "cell_type": "code",
      "metadata": {
        "colab": {
          "base_uri": "https://localhost:8080/"
        },
        "id": "JDYZ54gDBppx",
        "outputId": "d640f768-cb35-4efe-d951-8c9730bf41cf"
      },
      "source": [
        "# As we see blow two columns of type object and contains 8585 entries\n",
        "dataset.info()"
      ],
      "execution_count": 380,
      "outputs": [
        {
          "output_type": "stream",
          "name": "stdout",
          "text": [
            "<class 'pandas.core.frame.DataFrame'>\n",
            "RangeIndex: 8586 entries, 0 to 8585\n",
            "Data columns (total 2 columns):\n",
            " #   Column     Non-Null Count  Dtype \n",
            "---  ------     --------------  ----- \n",
            " 0   job title  8586 non-null   object\n",
            " 1   industry   8586 non-null   object\n",
            "dtypes: object(2)\n",
            "memory usage: 134.3+ KB\n"
          ]
        }
      ]
    },
    {
      "cell_type": "code",
      "metadata": {
        "colab": {
          "base_uri": "https://localhost:8080/"
        },
        "id": "Riu4zDRq-0O3",
        "outputId": "a0daa83b-0860-4b74-e77a-50106b3d609e"
      },
      "source": [
        "#Each job title belongs to one of industry types. \n",
        "#The industry type is the classes or predictions and the job titles are our feartures.\n",
        "classes = np.array(dataset['industry'].unique())\n",
        "job_titles =  np.array(dataset['job title'].unique())\n",
        "print(\"There are {} unique Classes in the dataset: {}\".format(len(classes), classes))\n",
        "print(\"\\nThere are {} unique job titles entries in dataset like: \\n{}.\".format(len(job_titles), job_titles[:3]))\n"
      ],
      "execution_count": 381,
      "outputs": [
        {
          "output_type": "stream",
          "name": "stdout",
          "text": [
            "There are 4 unique Classes in the dataset: ['IT' 'Marketing' 'Education' 'Accountancy']\n",
            "\n",
            "There are 3890 unique job titles entries in dataset like: \n",
            "['technical support and helpdesk supervisor - county buildings, ayr soa04086'\n",
            " 'senior technical support engineer' 'head of it services'].\n"
          ]
        }
      ]
    },
    {
      "cell_type": "markdown",
      "metadata": {
        "id": "ubXzZ6hF-0O4"
      },
      "source": [
        "### Visualize the distribution of classes."
      ]
    },
    {
      "cell_type": "code",
      "metadata": {
        "colab": {
          "base_uri": "https://localhost:8080/",
          "height": 312
        },
        "id": "wjZXQIz7-0O6",
        "outputId": "ad704db9-f875-4efb-b8ab-bac0ce8c550b"
      },
      "source": [
        "# Show Industry Frequency count\n",
        "plt.figure(figsize=(8,4))\n",
        "plt.title(\"Industry Frequency count\")\n",
        "sns.countplot(x = 'industry', data = dataset)"
      ],
      "execution_count": 382,
      "outputs": [
        {
          "output_type": "execute_result",
          "data": {
            "text/plain": [
              "<matplotlib.axes._subplots.AxesSubplot at 0x7f6b7274a290>"
            ]
          },
          "metadata": {},
          "execution_count": 382
        },
        {
          "output_type": "display_data",
          "data": {
            "image/png": "[encoded data removed]",
            "text/plain": [
              "<Figure size 576x288 with 1 Axes>"
            ]
          },
          "metadata": {
            "needs_background": "light"
          }
        }
      ]
    },
    {
      "cell_type": "markdown",
      "metadata": {
        "id": "FnOdKN8B-0O7"
      },
      "source": [
        "### Cleaning the data: Handling duplicates"
      ]
    },
    {
      "cell_type": "code",
      "metadata": {
        "colab": {
          "base_uri": "https://localhost:8080/",
          "height": 204
        },
        "id": "46a6_KM9F5Hl",
        "outputId": "3c10bf6d-2e17-49fe-8e70-8a0fe118c4d7"
      },
      "source": [
        "#Detect duplicate in data 4618 row duplicates in job title per industry\n",
        "dataset[dataset.duplicated()].head()"
      ],
      "execution_count": 383,
      "outputs": [
        {
          "output_type": "execute_result",
          "data": {
            "text/html": [
              "<div>\n",
              "<style scoped>\n",
              "    .dataframe tbody tr th:only-of-type {\n",
              "        vertical-align: middle;\n",
              "    }\n",
              "\n",
              "    .dataframe tbody tr th {\n",
              "        vertical-align: top;\n",
              "    }\n",
              "\n",
              "    .dataframe thead th {\n",
              "        text-align: right;\n",
              "    }\n",
              "</style>\n",
              "<table border=\"1\" class=\"dataframe\">\n",
              "  <thead>\n",
              "    <tr style=\"text-align: right;\">\n",
              "      <th></th>\n",
              "      <th>job title</th>\n",
              "      <th>industry</th>\n",
              "    </tr>\n",
              "  </thead>\n",
              "  <tbody>\n",
              "    <tr>\n",
              "      <th>7</th>\n",
              "      <td>devops engineers x 3 - global brand</td>\n",
              "      <td>IT</td>\n",
              "    </tr>\n",
              "    <tr>\n",
              "      <th>10</th>\n",
              "      <td>devops engineers x 3 - global brand</td>\n",
              "      <td>IT</td>\n",
              "    </tr>\n",
              "    <tr>\n",
              "      <th>11</th>\n",
              "      <td>devops engineers x 3 - global brand</td>\n",
              "      <td>IT</td>\n",
              "    </tr>\n",
              "    <tr>\n",
              "      <th>26</th>\n",
              "      <td>business analyst</td>\n",
              "      <td>IT</td>\n",
              "    </tr>\n",
              "    <tr>\n",
              "      <th>36</th>\n",
              "      <td>.net developer</td>\n",
              "      <td>IT</td>\n",
              "    </tr>\n",
              "  </tbody>\n",
              "</table>\n",
              "</div>"
            ],
            "text/plain": [
              "                              job title industry\n",
              "7   devops engineers x 3 - global brand       IT\n",
              "10  devops engineers x 3 - global brand       IT\n",
              "11  devops engineers x 3 - global brand       IT\n",
              "26                     business analyst       IT\n",
              "36                       .net developer       IT"
            ]
          },
          "metadata": {},
          "execution_count": 383
        }
      ]
    },
    {
      "cell_type": "code",
      "metadata": {
        "colab": {
          "base_uri": "https://localhost:8080/",
          "height": 312
        },
        "id": "wieIXhfN-0O8",
        "outputId": "a8090e79-e7b6-4de5-b2dc-d10ed863f4d1"
      },
      "source": [
        "#Drop Duplicated rows \n",
        "dataset_cleaned = dataset.drop_duplicates(subset=\"job title\")\n",
        "# Show Industry Frequency count after remove duplicates\n",
        "plt.figure(figsize=(8,4))\n",
        "plt.title(\"Industry Frequency count\")\n",
        "sns.countplot(x = 'industry', data = dataset_cleaned)\n"
      ],
      "execution_count": 384,
      "outputs": [
        {
          "output_type": "execute_result",
          "data": {
            "text/plain": [
              "<matplotlib.axes._subplots.AxesSubplot at 0x7f6b72745150>"
            ]
          },
          "metadata": {},
          "execution_count": 384
        },
        {
          "output_type": "display_data",
          "data": {
            "image/png": "[encoded data removed]",
            "text/plain": [
              "<Figure size 576x288 with 1 Axes>"
            ]
          },
          "metadata": {
            "needs_background": "light"
          }
        }
      ]
    },
    {
      "cell_type": "markdown",
      "metadata": {
        "id": "1nd5kgHm-0O9"
      },
      "source": [
        "### Text Preprocessing"
      ]
    },
    {
      "cell_type": "code",
      "metadata": {
        "id": "Y9Pg0W6U-0O9"
      },
      "source": [
        "# take text and preprocess 'remove stopwords [a, the, and, thus, ... etc] and punctations[,%$ ..etc] and len of text less than 3' \n",
        "def clean_text(text):\n",
        "    \"\"\"\n",
        "        text: a string \n",
        "        return: cleaned string\n",
        "    \"\"\"\n",
        "    result = []\n",
        "    for token in simple_preprocess(text):\n",
        "        if token not in STOPWORDS and token not in punctation and  len(token) >= 3 :\n",
        "            token = token.lower() \n",
        "            result.append(token)    \n",
        "    return \" \".join(result)\n"
      ],
      "execution_count": 385,
      "outputs": []
    },
    {
      "cell_type": "code",
      "metadata": {
        "colab": {
          "base_uri": "https://localhost:8080/",
          "height": 326
        },
        "id": "48pv6pDkK8eP",
        "outputId": "dde132a7-11e8-4529-f08c-d4baafa62685"
      },
      "source": [
        "dataset_cleaned['job title'] = dataset_cleaned['job title'].map(clean_text)\n",
        "dataset_cleaned.head()"
      ],
      "execution_count": 386,
      "outputs": [
        {
          "output_type": "stream",
          "name": "stderr",
          "text": [
            "/usr/local/lib/python3.7/dist-packages/ipykernel_launcher.py:1: SettingWithCopyWarning: \n",
            "A value is trying to be set on a copy of a slice from a DataFrame.\n",
            "Try using .loc[row_indexer,col_indexer] = value instead\n",
            "\n",
            "See the caveats in the documentation: https://pandas.pydata.org/pandas-docs/stable/user_guide/indexing.html#returning-a-view-versus-a-copy\n",
            "  \"\"\"Entry point for launching an IPython kernel.\n"
          ]
        },
        {
          "output_type": "execute_result",
          "data": {
            "text/html": [
              "<div>\n",
              "<style scoped>\n",
              "    .dataframe tbody tr th:only-of-type {\n",
              "        vertical-align: middle;\n",
              "    }\n",
              "\n",
              "    .dataframe tbody tr th {\n",
              "        vertical-align: top;\n",
              "    }\n",
              "\n",
              "    .dataframe thead th {\n",
              "        text-align: right;\n",
              "    }\n",
              "</style>\n",
              "<table border=\"1\" class=\"dataframe\">\n",
              "  <thead>\n",
              "    <tr style=\"text-align: right;\">\n",
              "      <th></th>\n",
              "      <th>job title</th>\n",
              "      <th>industry</th>\n",
              "    </tr>\n",
              "  </thead>\n",
              "  <tbody>\n",
              "    <tr>\n",
              "      <th>0</th>\n",
              "      <td>technical support helpdesk supervisor county b...</td>\n",
              "      <td>IT</td>\n",
              "    </tr>\n",
              "    <tr>\n",
              "      <th>1</th>\n",
              "      <td>senior technical support engineer</td>\n",
              "      <td>IT</td>\n",
              "    </tr>\n",
              "    <tr>\n",
              "      <th>2</th>\n",
              "      <td>head services</td>\n",
              "      <td>IT</td>\n",
              "    </tr>\n",
              "    <tr>\n",
              "      <th>3</th>\n",
              "      <td>end engineer</td>\n",
              "      <td>IT</td>\n",
              "    </tr>\n",
              "    <tr>\n",
              "      <th>4</th>\n",
              "      <td>network telephony controller</td>\n",
              "      <td>IT</td>\n",
              "    </tr>\n",
              "  </tbody>\n",
              "</table>\n",
              "</div>"
            ],
            "text/plain": [
              "                                           job title industry\n",
              "0  technical support helpdesk supervisor county b...       IT\n",
              "1                  senior technical support engineer       IT\n",
              "2                                      head services       IT\n",
              "3                                       end engineer       IT\n",
              "4                       network telephony controller       IT"
            ]
          },
          "metadata": {},
          "execution_count": 386
        }
      ]
    },
    {
      "cell_type": "markdown",
      "metadata": {
        "id": "67ofVEBt-0O-"
      },
      "source": [
        "### Splitting data into test and train datasets + Dealing with class imbalance"
      ]
    },
    {
      "cell_type": "code",
      "metadata": {
        "id": "8G1BESIs-0O_"
      },
      "source": [
        "X = dataset_cleaned['job title']\n",
        "y = dataset_cleaned['industry']\n",
        "X_train, X_test, y_train, y_test = train_test_split(X, y, test_size=0.3, random_state = 42)\n",
        "weights = compute_sample_weight(\"balanced\",y_train)"
      ],
      "execution_count": 387,
      "outputs": []
    },
    {
      "cell_type": "markdown",
      "metadata": {
        "id": "vo3LCUKy-0PA"
      },
      "source": [
        "## The Model \n",
        "\n",
        "### Approach 1: Naive Bayes classifier for multinomial models"
      ]
    },
    {
      "cell_type": "code",
      "metadata": {
        "scrolled": true,
        "colab": {
          "base_uri": "https://localhost:8080/"
        },
        "id": "bHvk31_k-0PA",
        "outputId": "17bb369b-36a5-4fd9-d043-ac135a7fa341"
      },
      "source": [
        "from sklearn.model_selection import cross_val_score\n",
        "nb_classifier = Pipeline([('vect', CountVectorizer()),\n",
        "               ('tfidf', TfidfTransformer()),\n",
        "               ('clf', MultinomialNB()),])\n",
        "\n",
        "nb_classifier.fit(X_train, y_train, **{'clf__sample_weight': weights})\n",
        "y_pred = nb_classifier.predict(X_test)\n",
        "print('accuracy {}'.format(accuracy_score(y_pred, y_test)))"
      ],
      "execution_count": 388,
      "outputs": [
        {
          "output_type": "stream",
          "name": "stdout",
          "text": [
            "accuracy 0.8774635818337618\n"
          ]
        }
      ]
    },
    {
      "cell_type": "markdown",
      "metadata": {
        "id": "hAJRGjRs-0PB"
      },
      "source": [
        "### Approach 2: Linear SVM GradientDesent"
      ]
    },
    {
      "cell_type": "code",
      "metadata": {
        "colab": {
          "base_uri": "https://localhost:8080/"
        },
        "id": "bsXSTXf0-0PB",
        "outputId": "34684d32-711a-4e92-b6db-e9f5d85083c5"
      },
      "source": [
        "sgd = Pipeline([('vect', CountVectorizer()),\n",
        "                ('tfidf', TfidfTransformer()),\n",
        "                ('clf', SGDClassifier(loss='epsilon_insensitive', penalty='l2',alpha=1e-3, random_state=42, max_iter=1000, tol=None)),])\n",
        "\n",
        "\n",
        "sgd.fit(X_train, y_train, **{'clf__sample_weight': weights})\n",
        "y_pred = sgd.predict(X_test)\n",
        "print('accuracy {}'.format(accuracy_score(y_pred, y_test)))"
      ],
      "execution_count": 399,
      "outputs": [
        {
          "output_type": "stream",
          "name": "stdout",
          "text": [
            "accuracy 0.895458440445587\n"
          ]
        }
      ]
    },
    {
      "cell_type": "code",
      "metadata": {
        "colab": {
          "base_uri": "https://localhost:8080/"
        },
        "id": "L65jN6rDqVpE",
        "outputId": "2fc68218-d94e-41ac-e8a0-8c1764d1b218"
      },
      "source": [
        "sgd.predict(['NLP Engineer'])"
      ],
      "execution_count": 400,
      "outputs": [
        {
          "output_type": "execute_result",
          "data": {
            "text/plain": [
              "array(['IT'], dtype='<U11')"
            ]
          },
          "metadata": {},
          "execution_count": 400
        }
      ]
    },
    {
      "cell_type": "code",
      "metadata": {
        "colab": {
          "base_uri": "https://localhost:8080/"
        },
        "id": "vqi6pGMPgd4A",
        "outputId": "40279036-7215-4ca4-aea0-7f39e4d8be6e"
      },
      "source": [
        "sgd.predict(['Chief marketing officer'])"
      ],
      "execution_count": 401,
      "outputs": [
        {
          "output_type": "execute_result",
          "data": {
            "text/plain": [
              "array(['Marketing'], dtype='<U11')"
            ]
          },
          "metadata": {},
          "execution_count": 401
        }
      ]
    },
    {
      "cell_type": "code",
      "metadata": {
        "scrolled": false,
        "colab": {
          "base_uri": "https://localhost:8080/",
          "height": 231
        },
        "id": "lpNZnTG2-0PD",
        "outputId": "eb9c3b1b-fc3a-4243-a316-ff4d7282b705"
      },
      "source": [
        "confusion_matrix = confusion_matrix(y_test, y_pred)\n",
        "fig, ax = plt.subplots(figsize=(10,8))\n",
        "sns.heatmap(confusion_matrix, annot=True, fmt='d')\n",
        "plt.xlabel('Predicted')\n",
        "plt.ylabel('Actual')\n",
        "plt.show()"
      ],
      "execution_count": 402,
      "outputs": [
        {
          "output_type": "error",
          "ename": "TypeError",
          "evalue": "ignored",
          "traceback": [
            "\u001b[0;31m---------------------------------------------------------------------------\u001b[0m",
            "\u001b[0;31mTypeError\u001b[0m                                 Traceback (most recent call last)",
            "\u001b[0;32m<ipython-input-402-5eb378d28266>\u001b[0m in \u001b[0;36m<module>\u001b[0;34m()\u001b[0m\n\u001b[0;32m----> 1\u001b[0;31m \u001b[0mconfusion_matrix\u001b[0m \u001b[0;34m=\u001b[0m \u001b[0mconfusion_matrix\u001b[0m\u001b[0;34m(\u001b[0m\u001b[0my_test\u001b[0m\u001b[0;34m,\u001b[0m \u001b[0my_pred\u001b[0m\u001b[0;34m)\u001b[0m\u001b[0;34m\u001b[0m\u001b[0;34m\u001b[0m\u001b[0m\n\u001b[0m\u001b[1;32m      2\u001b[0m \u001b[0mfig\u001b[0m\u001b[0;34m,\u001b[0m \u001b[0max\u001b[0m \u001b[0;34m=\u001b[0m \u001b[0mplt\u001b[0m\u001b[0;34m.\u001b[0m\u001b[0msubplots\u001b[0m\u001b[0;34m(\u001b[0m\u001b[0mfigsize\u001b[0m\u001b[0;34m=\u001b[0m\u001b[0;34m(\u001b[0m\u001b[0;36m10\u001b[0m\u001b[0;34m,\u001b[0m\u001b[0;36m8\u001b[0m\u001b[0;34m)\u001b[0m\u001b[0;34m)\u001b[0m\u001b[0;34m\u001b[0m\u001b[0;34m\u001b[0m\u001b[0m\n\u001b[1;32m      3\u001b[0m \u001b[0msns\u001b[0m\u001b[0;34m.\u001b[0m\u001b[0mheatmap\u001b[0m\u001b[0;34m(\u001b[0m\u001b[0mconfusion_matrix\u001b[0m\u001b[0;34m,\u001b[0m \u001b[0mannot\u001b[0m\u001b[0;34m=\u001b[0m\u001b[0;32mTrue\u001b[0m\u001b[0;34m,\u001b[0m \u001b[0mfmt\u001b[0m\u001b[0;34m=\u001b[0m\u001b[0;34m'd'\u001b[0m\u001b[0;34m)\u001b[0m\u001b[0;34m\u001b[0m\u001b[0;34m\u001b[0m\u001b[0m\n\u001b[1;32m      4\u001b[0m \u001b[0mplt\u001b[0m\u001b[0;34m.\u001b[0m\u001b[0mxlabel\u001b[0m\u001b[0;34m(\u001b[0m\u001b[0;34m'Predicted'\u001b[0m\u001b[0;34m)\u001b[0m\u001b[0;34m\u001b[0m\u001b[0;34m\u001b[0m\u001b[0m\n\u001b[1;32m      5\u001b[0m \u001b[0mplt\u001b[0m\u001b[0;34m.\u001b[0m\u001b[0mylabel\u001b[0m\u001b[0;34m(\u001b[0m\u001b[0;34m'Actual'\u001b[0m\u001b[0;34m)\u001b[0m\u001b[0;34m\u001b[0m\u001b[0;34m\u001b[0m\u001b[0m\n",
            "\u001b[0;31mTypeError\u001b[0m: 'numpy.ndarray' object is not callable"
          ]
        }
      ]
    },
    {
      "cell_type": "markdown",
      "metadata": {
        "id": "KgjZafky-0PD"
      },
      "source": [
        "### Evaluating using F1-score for classes "
      ]
    },
    {
      "cell_type": "code",
      "metadata": {
        "colab": {
          "base_uri": "https://localhost:8080/"
        },
        "id": "A8bbUn4L-0PE",
        "outputId": "060bca19-9a0f-4483-d806-c6251a8c4985"
      },
      "source": [
        "from sklearn import metrics\n",
        "print(metrics.classification_report(y_test, y_pred, target_names=classes))"
      ],
      "execution_count": 393,
      "outputs": [
        {
          "output_type": "stream",
          "name": "stdout",
          "text": [
            "              precision    recall  f1-score   support\n",
            "\n",
            "          IT       0.72      0.83      0.77        76\n",
            "   Marketing       0.96      0.89      0.92       274\n",
            "   Education       0.95      0.88      0.91       486\n",
            " Accountancy       0.83      0.93      0.88       331\n",
            "\n",
            "    accuracy                           0.89      1167\n",
            "   macro avg       0.86      0.88      0.87      1167\n",
            "weighted avg       0.90      0.89      0.90      1167\n",
            "\n"
          ]
        }
      ]
    },
    {
      "cell_type": "markdown",
      "metadata": {
        "id": "DPED3uva-0PE"
      },
      "source": [
        "### Save the final selected Model to a file to use directly in the RESTfull API script."
      ]
    },
    {
      "cell_type": "code",
      "metadata": {
        "scrolled": true,
        "colab": {
          "base_uri": "https://localhost:8080/"
        },
        "id": "G6XjOgVX-0PE",
        "outputId": "0d68fd56-81c4-4982-f5b0-1c4e963af666"
      },
      "source": [
        "from joblib import dump, load\n",
        "dump(sgd, 'model.joblib')"
      ],
      "execution_count": 394,
      "outputs": [
        {
          "output_type": "execute_result",
          "data": {
            "text/plain": [
              "['model.joblib']"
            ]
          },
          "metadata": {},
          "execution_count": 394
        }
      ]
    }
  ]
}